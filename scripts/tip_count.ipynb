{
 "cells": [
  {
   "cell_type": "markdown",
   "metadata": {},
   "source": [
    "### 봉림 데이터 분석\n",
    "\n",
    "데이터의 경우 자동 복합 가공기 PLC에서 수신되는 데이터이며, 초 단위로 수집되는 데이터이다.\n",
    "\n",
    "해당 기계의 경우, 1호기 왼팔 오른팔, 2호기 왼팔 오른팔 별로 절삭 구간 세팅값이 다르기에 왼팔과 오른팔을 분할하여 진행한다.\n",
    "\n",
    "### Background Knowledge\n",
    "1. 보링과 핀의 절삭 구간(5개 구간)은 서로 공유되는 구조이다.\n",
    "    - 즉, 아래에서 진행할 라벨링의 경우 보링 및 핀의 이동 구간이다.\n",
    "    - 다만 깎는 넓이가 다르다 보니까 회전 속도의 경우 차이가 날 수 있음.\n",
    "2. 보링과 핀의 절삭 구간 중, 대기 지점은 90mm이며, 절삭 완료 후 후진 시 해당 지점으로 이동한다.\n",
    "    - 90mm 아래로 이동하는 경우는 잘 없으며, 혹여 그런 값이 찍힌다면 해당 경우는 가공기 정비 시 발생할 수 있다고 함.\n",
    "    - 5개 구간을 이동하기에 절삭 속도는 각각 다르지만, 후진의 경우 한 번에 후진하기 때문에 음수값은 5개가 찍히진 않는다.\n",
    "3. 보링, 핀, 드릴의 경우 세 개의 드릴이 동시에 절삭함\n",
    "4. 드릴의 경우 세 개의 구간에 걸쳐 절삭함\n",
    "    - 대기위치, 절삭위치, 관통위치의 세 구간이 존재함\n",
    "5. 작업이 아직 완료된 부분은 아니지만, 향후 17시가 되어 작업이 종료되면 그 날의 카운트 값은 초기화 할 예정.\n",
    "\n",
    "### 목표\n",
    "현재 봉림 금속의 경우 불량률을 낮추기 위해 드릴 팁을 더 쓸 수 있음에도 불구하고, 200개 가량 절삭이 완료되면 드릴 팁을 교체해버린다고 한다.\n",
    "\n",
    "데이터 분석 및 AI 모델을 활용하여 드릴을 좀 더 오래 활용할 수 있는 방안을 모색해야 한다.\n",
    "\n",
    "### 개발되어야 하는 모델\n",
    "- 팁 교체 주기 예측 모델\n",
    "- 시뮬레이션 모델(검사기 데이터 기반)"
   ]
  },
  {
   "cell_type": "code",
   "execution_count": null,
   "metadata": {},
   "outputs": [],
   "source": [
    "import sys\n",
    "sys.path.insert(0, r\"C:\\Users\\signlab_039\\Desktop\\projects\\bonglim\\main\")\n",
    "\n",
    "import warnings\n",
    "import pandas as pd\n",
    "from collections import Counter\n",
    "from MainProcess.data_prep.src.functions import *\n",
    "from MainProcess.data_prep.src.preprocessing import *\n",
    "# get_tip_count_dataset\n",
    "\n",
    "warnings.filterwarnings(\"ignore\")"
   ]
  },
  {
   "cell_type": "code",
   "execution_count": null,
   "metadata": {},
   "outputs": [],
   "source": [
    "rename_cols = db_table_to_csv(\"CONT_COMP_FAC_DATA_ONE\", including_index=False).columns\n",
    "\n",
    "one_df = pd.read_csv(\"./data/1호기.csv\")\n",
    "\n",
    "one_df.columns = rename_cols\n",
    "one_df['등록일'] = pd.to_datetime(one_df['등록일'])"
   ]
  },
  {
   "cell_type": "code",
   "execution_count": null,
   "metadata": {},
   "outputs": [],
   "source": [
    "one_df['day_name'] = one_df['등록일'].dt.day_name()\n",
    "one_df = one_df.loc[(one_df['day_name'] != \"Sunday\") & (one_df['day_name'] != \"Saturday\")].drop(\"day_name\", axis=1)"
   ]
  },
  {
   "cell_type": "code",
   "execution_count": null,
   "metadata": {},
   "outputs": [],
   "source": [
    "# load 1, 2 machine dataset\n",
    "tip_count = pd.read_csv(\"./data/팁카운트.csv\")\n",
    "one_left, one_right = split_left_right(one_df, True, True)"
   ]
  },
  {
   "cell_type": "code",
   "execution_count": null,
   "metadata": {},
   "outputs": [],
   "source": [
    "one_left = set_label_with_boring_location(one_left, [90, 222, 259, 288, 294, 302])\n",
    "one_right = set_label_with_boring_location(one_right, [90, 226, 265, 295, 301, 306])"
   ]
  },
  {
   "cell_type": "code",
   "execution_count": null,
   "metadata": {},
   "outputs": [],
   "source": [
    "# 1, 2호기 팁 카운트 분할\n",
    "count_tip_one = tip_count.loc[tip_count['FTC_FAC_NO'] == 1].reset_index(drop=True)\n",
    "count_tip_two = tip_count.loc[tip_count['FTC_FAC_NO'] == 2].reset_index(drop=True)"
   ]
  },
  {
   "cell_type": "code",
   "execution_count": null,
   "metadata": {},
   "outputs": [],
   "source": [
    "# set day range on count tip dataset\n",
    "one_left = one_left.loc[one_left['등록일'] >= count_tip_one['FTC_DATETIME'].min()].reset_index(drop=True)\n",
    "one_right = one_right.loc[one_right['등록일'] >= count_tip_one['FTC_DATETIME'].min()].reset_index(drop=True)"
   ]
  },
  {
   "cell_type": "code",
   "execution_count": null,
   "metadata": {},
   "outputs": [],
   "source": [
    "# 1호기 데이터 병합을 위한 컬럼명 변경\n",
    "one_left.rename(columns={col : col+\"-왼팔\" for col in one_left.columns if col != \"등록일\"}, inplace=True)\n",
    "one_right.rename(columns={col : col+\"-오른팔\" for col in one_right.columns if col != \"등록일\"}, inplace=True)"
   ]
  },
  {
   "cell_type": "code",
   "execution_count": null,
   "metadata": {},
   "outputs": [],
   "source": [
    "# 1호기 데이터셋 병합\n",
    "one_df = pd.concat([one_left.drop(\"등록일\", axis=1), one_right], axis=1)"
   ]
  },
  {
   "cell_type": "code",
   "execution_count": null,
   "metadata": {},
   "outputs": [],
   "source": [
    "one_df.to_csv(\"./1호기.csv\", index=False)"
   ]
  },
  {
   "cell_type": "markdown",
   "metadata": {},
   "source": [
    "### 팁 카운트 데이터 확인\n",
    "1호기 팁 카운트 데이터부터 확인 "
   ]
  },
  {
   "cell_type": "code",
   "execution_count": null,
   "metadata": {},
   "outputs": [],
   "source": [
    "count_tip_one.info()  # 결측치는 없는 것으로 확인"
   ]
  },
  {
   "cell_type": "code",
   "execution_count": null,
   "metadata": {},
   "outputs": [],
   "source": [
    "# 0값이 포함된 데이터들 확인\n",
    "idxes = []\n",
    "for idx in range(count_tip_one.shape[0]):\n",
    "    if 0 in count_tip_one.iloc[idx, :].values:\n",
    "        idxes.append(idx)\n",
    "\n",
    "include_zero = count_tip_one.loc[idxes]"
   ]
  },
  {
   "cell_type": "code",
   "execution_count": null,
   "metadata": {},
   "outputs": [],
   "source": [
    "include_zero"
   ]
  },
  {
   "cell_type": "code",
   "execution_count": null,
   "metadata": {},
   "outputs": [],
   "source": []
  },
  {
   "cell_type": "code",
   "execution_count": null,
   "metadata": {},
   "outputs": [],
   "source": [
    "# 사용량이 0으로 변하는 시점의 패턴을 보기 위해 반복문 작성\n",
    "columns = \"FTC_TIP1_L FTC_TIP2_L FTC_TIP3_L FTC_TIP1_R FTC_TIP2_R FTC_TIP3_R FTC_DATETIME\".split(\" \")\n",
    "test_df = count_tip_one[columns]\n",
    "test_df['FTC_DATETIME'] = pd.to_datetime(test_df['FTC_DATETIME'])\n",
    "test_df = test_df.loc[(\"2025-03-12 00:00:00\" > test_df['FTC_DATETIME']) | (\"2025-03-12 23:59:59\" < test_df['FTC_DATETIME'])]\n",
    "\n",
    "for idx in range(test_df.shape[0]):\n",
    "    if Counter(test_df.iloc[idx, :].values.tolist())[0] == 1:  # 배열안의 숫자들을 세고, 0의 개수가 1인 데이터만 가지고 왔을 때\n",
    "        if test_df.iloc[idx, :].values.tolist().index(0) != 0:\n",
    "            print(test_df.iloc[idx, :].values.tolist())\n",
    "\n",
    "# test_df"
   ]
  },
  {
   "cell_type": "markdown",
   "metadata": {},
   "source": [
    "0 하나 포함된 것 모두 -> 맨 처음 찍힌 시간들을 모두 들고와서 최소 시간대 -> 드릴 팁 교체 시작\n",
    "0 여섯개 포함된 것 모두 -> 제일 나중에 찍힌 시간 -> 드릴 팁 교체 끝시점"
   ]
  },
  {
   "cell_type": "code",
   "execution_count": null,
   "metadata": {},
   "outputs": [],
   "source": [
    "include_zero"
   ]
  },
  {
   "cell_type": "markdown",
   "metadata": {},
   "source": [
    "위 코드 실행 결과, 출력되는 것이 아무것도 없는 점으로 미루어 봤을 때, 0으로 변하는 시점의 경우 항상 FTC_TIP1_L이 먼저 0으로 변하는 것으로 확인"
   ]
  },
  {
   "cell_type": "code",
   "execution_count": null,
   "metadata": {},
   "outputs": [],
   "source": [
    "count_tip_one.describe().T.style.background_gradient()"
   ]
  },
  {
   "cell_type": "code",
   "execution_count": null,
   "metadata": {},
   "outputs": [],
   "source": [
    "one_df.describe().T.style.background_gradient()"
   ]
  },
  {
   "cell_type": "markdown",
   "metadata": {},
   "source": [
    "### 정리\n",
    "- 드릴을 제외한 사용량의 경우 최대치가 101이며, 드릴의 경우 해당 값의 두 배인 202까지 값들이 분포되어 있다.\n",
    "- 항상 FTC_TIP1_L 부터 초기화 버튼이 눌러지며, 해당 버튼을 눌렀을 땐 이미 불량이 발생했음을 의미한다.\n",
    "\n",
    "### 고려사항\n",
    "팁 교체 구간을 어떤 부분으로 볼 것인가?\n",
    "\n",
    "1. 사용량 중 FTC_TIP1_L값이 0으로 변하는 시점부터 다시 카운트값이 올라가는 지점 전까지\n",
    "2. 사용량 모두 0으로 변한 시점부터 다시 카운트값이 올라가는 지점 전까지\n",
    "\n",
    "우선 첫 번째 상황으로 팁 교체 구간을 정의해보자."
   ]
  },
  {
   "cell_type": "code",
   "execution_count": null,
   "metadata": {},
   "outputs": [],
   "source": [
    "timelines = get_tip_changed_timeline(count_tip_one)"
   ]
  },
  {
   "cell_type": "code",
   "execution_count": null,
   "metadata": {},
   "outputs": [],
   "source": [
    "timelines"
   ]
  },
  {
   "cell_type": "markdown",
   "metadata": {},
   "source": [
    "질의사항\n",
    "\n",
    "1. 팁 교체 시 평균적으로 걸리는 시간\n",
    "2. 팁 교체 판단은 육안으로 진행한다고 했는데, 작업이 완료되는 링크마다 육안검사를 진행하는지\n",
    "3. 세팅 부하율의 경우 30이 최대치인데, 작업 시에는 최대 25정도로 밖에 올라가지 않는다. "
   ]
  },
  {
   "cell_type": "code",
   "execution_count": null,
   "metadata": {},
   "outputs": [],
   "source": [
    "fig = go.Figure()\n",
    "for col in one_df.columns:\n",
    "    fig.add_trace(go.Scatter(\n",
    "        x=one_df['등록일'], y=one_df[col], name=col\n",
    "    ))\n",
    "\n",
    "for time in timelines:\n",
    "    fig.add_vrect(\n",
    "        x0=time[0],\n",
    "        x1=time[1],\n",
    "        fillcolor=\"black\",\n",
    "        opacity=0.7,\n",
    "        annotation_text=\"change drill tips\"\n",
    "    )\n",
    "fig.update_layout(hovermode=\"x unified\")\n",
    "fig.show()"
   ]
  },
  {
   "cell_type": "markdown",
   "metadata": {},
   "source": [
    "그래프 상으로는 식별이 불가한 수준\n",
    "\n",
    "### 요약 통계량 비교\n",
    "\n",
    "팁 교체 전후 특정 몇분 간의 데이터를 관측(한 제품당 절삭 시간의 경우 평균적으로 32초(32개 행)정도 소요됨)\n",
    "\n",
    "절삭 완료 후 복합 가공 이후의 모든 프로세스를 거친 링크가 완료 로트에 적재될 때 마다 제품을 검사한다고 쳐도,\n",
    "\n",
    "바깥에서의 프로세스가 있기 때문에 육안으로 불량을 판단하려면 시간이 좀 걸릴 것으로 예상,\n",
    "\n",
    "팁 교체 시작 전후 30분, 1시간의 자료들의 요약 통계량을 비교"
   ]
  },
  {
   "cell_type": "code",
   "execution_count": null,
   "metadata": {},
   "outputs": [],
   "source": [
    "before_change = []\n",
    "after_change = []\n",
    "for time in timelines:\n",
    "    before_one_hour_tip_change = one_df.loc[(str(time[0] - pd.Timedelta(minutes=30)) <= one_df['등록일']) & (one_df['등록일'] < str(time[0]))]\n",
    "    after_one_hour_tip_change = one_df.loc[(str(time[1]) < one_df['등록일']) & (one_df['등록일'] <= str(time[1] + pd.Timedelta(minutes=30)))]\n",
    "    \n",
    "    before_change.append(before_one_hour_tip_change)\n",
    "    after_change.append(after_one_hour_tip_change)"
   ]
  },
  {
   "cell_type": "code",
   "execution_count": null,
   "metadata": {},
   "outputs": [],
   "source": [
    "describe_target = [col for col in one_df.columns if \"부하율\" in col]\n",
    "before_change[4].describe().T.style.background_gradient()"
   ]
  },
  {
   "cell_type": "code",
   "execution_count": null,
   "metadata": {},
   "outputs": [],
   "source": [
    "after_change[4].describe().T.style.background_gradient()"
   ]
  },
  {
   "cell_type": "code",
   "execution_count": null,
   "metadata": {},
   "outputs": [],
   "source": [
    "set_one = pd.read_csv(\"./data/1호기 세팅값.csv\")\n",
    "set_two = pd.read_csv(\"./data/2호기 세팅값.csv\")\n",
    "\n",
    "set_one"
   ]
  },
  {
   "cell_type": "code",
   "execution_count": null,
   "metadata": {},
   "outputs": [],
   "source": [
    "set_one.columns = db_table_to_csv(\"CONT_COMP_FAC_SET_ONE\", including_index=False).columns"
   ]
  },
  {
   "cell_type": "code",
   "execution_count": null,
   "metadata": {},
   "outputs": [],
   "source": [
    "recently_setted = set_one.iloc[-3:-1, :]"
   ]
  },
  {
   "cell_type": "code",
   "execution_count": null,
   "metadata": {},
   "outputs": [],
   "source": [
    "recently_setted"
   ]
  },
  {
   "cell_type": "code",
   "execution_count": null,
   "metadata": {},
   "outputs": [],
   "source": [
    "recently_setted.loc[recently_setted['위치']==0][['회전부하율%', '핀부하율%', '드릴 상,하 부하율']]"
   ]
  },
  {
   "cell_type": "code",
   "execution_count": null,
   "metadata": {},
   "outputs": [],
   "source": [
    "recently_setted.loc[recently_setted['위치']==1][['회전부하율%', '핀부하율%', '드릴 상,하 부하율']]"
   ]
  },
  {
   "cell_type": "code",
   "execution_count": null,
   "metadata": {},
   "outputs": [],
   "source": [
    "left_loads = recently_setted.loc[recently_setted['위치']==0][['회전부하율%', '핀부하율%', '드릴 상,하 부하율']].apply(lambda x: int(x/10))\n",
    "right_loads = recently_setted.loc[recently_setted['위치']==1][['회전부하율%', '핀부하율%', '드릴 상,하 부하율']].apply(lambda x: int(x/10))"
   ]
  },
  {
   "cell_type": "code",
   "execution_count": null,
   "metadata": {},
   "outputs": [],
   "source": [
    "# target = [col for col in one_df.columns if \"부하율\" in col]\n",
    "# for col in target:\n",
    "#     one_df[f\"{col} MA\"] = one_df[col].rolling(window=300).sum()"
   ]
  },
  {
   "cell_type": "code",
   "execution_count": null,
   "metadata": {},
   "outputs": [],
   "source": [
    "# for col in one_df.columns:\n",
    "#     load_variation = [0]\n",
    "#     if \"부하율\" in col:\n",
    "#         for idx in range(1, one_df.shape[0]):\n",
    "#             before_value = one_df.iloc[idx-1, :][col]\n",
    "#             now = one_df.iloc[idx, :][col]\n",
    "            \n",
    "#             variation = ((now - before_value) / before_value) * 100\n",
    "#             load_variation.append(variation)\n",
    "#         one_df[f\"{col} 변화량\"] = load_variation"
   ]
  },
  {
   "cell_type": "code",
   "execution_count": null,
   "metadata": {},
   "outputs": [],
   "source": [
    "# # 토크값 추출 시도 (정확한 토크값 X, 근사치)\n",
    "# one_df['left_bor_torque'] = (one_df['보링회전 부하율-왼팔'] / one_df['보링회전 RPM-왼팔']).round(4)\n",
    "# one_df['left_pin_torque'] = (one_df['핀 회전 부하율-왼팔'] / one_df['핀 회전 RPM-왼팔']).round(4)\n",
    "# one_df['right_bor_torque'] = (one_df['보링회전 부하율-오른팔'] / one_df['보링회전 RPM-오른팔']).round(4)\n",
    "# one_df['right_pin_torque'] = (one_df['핀 회전 부하율-오른팔'] / one_df['핀 회전 RPM-오른팔']).round(4)"
   ]
  },
  {
   "cell_type": "code",
   "execution_count": null,
   "metadata": {},
   "outputs": [],
   "source": [
    "# fig = go.Figure()\n",
    "# for col in one_df.columns:\n",
    "#     fig.add_trace(go.Scatter(\n",
    "#         x=one_df['등록일'], y=one_df[col], name=col\n",
    "#     ))\n",
    "    \n",
    "# for time in timelines:\n",
    "#     fig.add_vrect(\n",
    "#         x0=time[0],\n",
    "#         x1=time[1],\n",
    "#         annotation_text=\"drill tip changed\",\n",
    "#         fillcolor=\"green\",\n",
    "#         opacity=0.3\n",
    "#     )\n",
    "    \n",
    "# fig.show()"
   ]
  },
  {
   "cell_type": "code",
   "execution_count": null,
   "metadata": {},
   "outputs": [],
   "source": [
    "# # 새로운 Feature 생성\n",
    "# one_df['rpm_to_feed_ratio_left'] = one_df['보링회전 RPM-왼팔'] / (one_df['보링 가공 전,후 속도-왼팔'] + 1e-6)  # 0으로 나누는 것을 방지\n",
    "# one_df['rpm_load_interaction_left'] = one_df['보링회전 RPM-왼팔'] * one_df['보링회전 부하율-왼팔']\n",
    "# one_df['feed_load_ratio_left'] = one_df['보링 가공 전,후 속도-왼팔'] / (one_df['보링회전 부하율-왼팔'] + 1e-6)\n",
    "# one_df['rpm_feed_diff_left'] = one_df['보링회전 RPM-왼팔'] - one_df['보링 가공 전,후 속도-왼팔']\n",
    "# one_df['load_rpm_feed_interaction_left'] = one_df['보링회전 부하율-왼팔'] * one_df['보링회전 RPM-왼팔'] * one_df['보링 가공 전,후 속도-왼팔']\n",
    "# one_df['cutting_energy_left'] = one_df['보링회전 RPM-왼팔'] * one_df['보링 가공 전,후 속도-왼팔'] * one_df['보링회전 부하율-왼팔']\n",
    "\n",
    "# # 오른팔도 동일하게 적용\n",
    "# one_df['rpm_to_feed_ratio_right'] = one_df['보링회전 RPM-오른팔'] / (one_df['보링 가공 전,후 속도-오른팔'] + 1e-6)\n",
    "# one_df['rpm_load_interaction_right'] = one_df['보링회전 RPM-오른팔'] * one_df['보링회전 부하율-오른팔']\n",
    "# one_df['feed_load_ratio_right'] = one_df['보링 가공 전,후 속도-오른팔'] / (one_df['보링회전 부하율-오른팔'] + 1e-6)\n",
    "# one_df['rpm_feed_diff_right'] = one_df['보링회전 RPM-오른팔'] - one_df['보링 가공 전,후 속도-오른팔']\n",
    "# one_df['load_rpm_feed_interaction_right'] = one_df['보링회전 부하율-오른팔'] * one_df['보링회전 RPM-오른팔'] * one_df['보링 가공 전,후 속도-오른팔']\n",
    "# one_df['cutting_energy_right'] = one_df['보링회전 RPM-오른팔'] * one_df['보링 가공 전,후 속도-오른팔'] * one_df['보링회전 부하율-오른팔']"
   ]
  },
  {
   "cell_type": "markdown",
   "metadata": {},
   "source": [
    "### 일단 모델링"
   ]
  },
  {
   "cell_type": "code",
   "execution_count": null,
   "metadata": {},
   "outputs": [],
   "source": [
    "df = pd.read_csv(\"./1호기.csv\")"
   ]
  },
  {
   "cell_type": "code",
   "execution_count": null,
   "metadata": {},
   "outputs": [],
   "source": [
    "from datetime import datetime\n",
    "\n",
    "# 드릴 팁 교체 시 8분 이상동안 진행된 데이터만 가져오기 위해..\n",
    "filtered_replacement_times = [\n",
    "    (start, end) for start, end in timelines if (end - start).total_seconds() >= 480\n",
    "]\n",
    "\n",
    "# '등록일'을 datetime 타입으로 변환\n",
    "df['등록일'] = pd.to_datetime(df['등록일'])\n",
    "\n",
    "# 드릴 팁 교체 시간대의 데이터 필터링\n",
    "replacement_data = []\n",
    "for start, end in filtered_replacement_times:\n",
    "    replacement_data.append(df[(df['등록일'] >= start) & (df['등록일'] <= end)])\n",
    "\n",
    "# 병합하여 하나의 데이터프레임 생성\n",
    "replacement_df = pd.concat(replacement_data, ignore_index=True)"
   ]
  },
  {
   "cell_type": "code",
   "execution_count": null,
   "metadata": {},
   "outputs": [],
   "source": [
    "replacement_df"
   ]
  },
  {
   "cell_type": "code",
   "execution_count": null,
   "metadata": {},
   "outputs": [],
   "source": [
    "# 드릴 팁 교체 전후 데이터 분리\n",
    "pre_replacement_data = []\n",
    "post_replacement_data = []\n",
    "\n",
    "time_window = pd.Timedelta(minutes=5)  # 교체 전후 5분 비교\n",
    "\n",
    "for start, end in filtered_replacement_times:\n",
    "    pre_replacement_data.append(df[(df['등록일'] >= start - time_window) & (df['등록일'] < start)])\n",
    "    post_replacement_data.append(df[(df['등록일'] > end) & (df['등록일'] <= end + time_window)])\n",
    "\n",
    "# 병합하여 하나의 데이터프레임 생성\n",
    "pre_replacement_df = pd.concat(pre_replacement_data, ignore_index=True)\n",
    "post_replacement_df = pd.concat(post_replacement_data, ignore_index=True)\n",
    "\n",
    "# 주요 변수 평균 비교\n",
    "variables_to_compare = [\n",
    "    '드릴 상,하 속도-왼팔', '드릴 상,하 부하율-왼팔', '드릴 상,하 속도-오른팔', '드릴 상,하 부하율-오른팔',\n",
    "    '보링회전 RPM-왼팔', '보링회전 부하율-왼팔', '보링 가공 전,후 속도-왼팔', '보링 가공 전,후 부하율-왼팔',\n",
    "    '싸이클타임-오른팔', '카운트-오른팔'\n",
    "]\n",
    "\n",
    "pre_avg = pre_replacement_df[variables_to_compare].mean()\n",
    "post_avg = post_replacement_df[variables_to_compare].mean()\n",
    "\n",
    "# 비교 데이터프레임 생성\n",
    "comparison_df = pd.DataFrame({'교체 전 평균': pre_avg, '교체 후 평균': post_avg})"
   ]
  },
  {
   "cell_type": "code",
   "execution_count": null,
   "metadata": {},
   "outputs": [],
   "source": [
    "import matplotlib.pyplot as plt\n",
    "import matplotlib as mlp\n",
    "\n",
    "mlp.rcParams['font.family'] = \"Malgun Gothic\"\n",
    "mlp.rcParams['axes.unicode_minus'] = False\n",
    "\n",
    "# 시각화 대상 변수\n",
    "variables_to_plot = ['드릴 상,하 속도-왼팔', '드릴 상,하 부하율-왼팔', '드릴 상,하 속도-오른팔', '드릴 상,하 부하율-오른팔', '보링회전 RPM-왼팔']\n",
    "\n",
    "# 교체 전/후 데이터에 '구분' 컬럼 추가\n",
    "pre_replacement_df['구분'] = '교체 전'\n",
    "post_replacement_df['구분'] = '교체 후'\n",
    "\n",
    "# 병합하여 시각화할 데이터 생성\n",
    "plot_data = pd.concat([pre_replacement_df, post_replacement_df])\n",
    "\n",
    "# 시계열 그래프 생성\n",
    "for var in variables_to_plot:\n",
    "    plt.figure(figsize=(10, 5))\n",
    "    for label, subset in plot_data.groupby('구분'):\n",
    "        plt.plot(subset['등록일'], subset[var], label=label, alpha=0.7)\n",
    "    plt.title(f'드릴 팁 교체 전후 {var} 변화')\n",
    "    plt.xlabel('시간')\n",
    "    plt.ylabel(var)\n",
    "    plt.legend()\n",
    "    plt.xticks(rotation=45)\n",
    "    plt.show()\n"
   ]
  },
  {
   "cell_type": "code",
   "execution_count": null,
   "metadata": {},
   "outputs": [],
   "source": [
    "# 드릴 팁 교체 시점에서 주요 변수들의 평균 및 분산 비교\n",
    "\n",
    "# 교체 시점에서의 데이터 필터링 (교체 전후 5분 포함)\n",
    "time_window = pd.Timedelta(minutes=5)\n",
    "\n",
    "replacement_analysis_data = []\n",
    "for start, end in filtered_replacement_times:\n",
    "    replacement_analysis_data.append(df[(df['등록일'] >= start - time_window) & (df['등록일'] <= end + time_window)])\n",
    "\n",
    "# 병합하여 하나의 데이터프레임 생성\n",
    "replacement_analysis_df = pd.concat(replacement_analysis_data, ignore_index=True)\n",
    "\n",
    "# 비교할 주요 변수\n",
    "variables_for_analysis = [\n",
    "    '드릴 상,하 속도-왼팔', '드릴 상,하 부하율-왼팔', '드릴 상,하 속도-오른팔', '드릴 상,하 부하율-오른팔',\n",
    "    '보링회전 RPM-왼팔', '보링회전 부하율-왼팔', '싸이클타임-오른팔', '카운트-오른팔'\n",
    "]\n",
    "\n",
    "# 드릴 팁 교체 시점 데이터의 평균 및 표준편차 계산\n",
    "replacement_stats = replacement_analysis_df[variables_for_analysis].agg(['mean', 'std']).T\n",
    "\n",
    "# 전체 데이터와 비교\n",
    "overall_stats = df[variables_for_analysis].agg(['mean', 'std']).T\n",
    "\n",
    "# 비교 데이터프레임 생성\n",
    "comparison_stats_df = pd.concat([overall_stats, replacement_stats], axis=1)\n",
    "comparison_stats_df.columns = ['전체 평균', '전체 표준편차', '교체 시점 평균', '교체 시점 표준편차']\n"
   ]
  },
  {
   "cell_type": "code",
   "execution_count": null,
   "metadata": {},
   "outputs": [],
   "source": [
    "from sklearn.model_selection import train_test_split\n",
    "from sklearn.ensemble import RandomForestClassifier\n",
    "from sklearn.metrics import classification_report\n",
    "\n",
    "# 교체 시점 데이터에 '교체 여부' 라벨 추가 (1: 교체 시점, 0: 정상 운행)\n",
    "df['교체 여부'] = 0\n",
    "\n",
    "for start, end in filtered_replacement_times:\n",
    "    df.loc[(df['등록일'] >= start - time_window) & (df['등록일'] <= end + time_window), '교체 여부'] = 1\n",
    "\n",
    "# 학습 데이터 준비 (특징 변수 및 라벨)\n",
    "features = ['드릴 상,하 속도-왼팔', '드릴 상,하 부하율-왼팔', \n",
    "            '드릴 상,하 속도-오른팔', '드릴 상,하 부하율-오른팔', \n",
    "            '보링회전 RPM-왼팔', '보링회전 부하율-왼팔', \n",
    "            '싸이클타임-오른팔', '카운트-오른팔']\n",
    "\n",
    "X = df[features]\n",
    "y = df['교체 여부']\n",
    "\n",
    "# 훈련/테스트 데이터 분할 (80% 훈련, 20% 테스트)\n",
    "X_train, X_test, y_train, y_test = train_test_split(X, y, test_size=0.2, random_state=42, stratify=y)\n",
    "\n",
    "# 모델 학습 (랜덤 포레스트 사용)\n",
    "model = RandomForestClassifier(n_estimators=100, random_state=42)\n",
    "model.fit(X_train, y_train)\n",
    "\n",
    "# 모델 평가\n",
    "y_pred = model.predict(X_test)\n",
    "report = classification_report(y_test, y_pred, target_names=['정상 운행', '드릴 팁 교체'])\n",
    "\n",
    "# 결과 출력\n",
    "print(report)\n"
   ]
  },
  {
   "cell_type": "code",
   "execution_count": null,
   "metadata": {},
   "outputs": [],
   "source": [
    "df = pd.read_csv(\"./1호기.csv\")"
   ]
  },
  {
   "cell_type": "code",
   "execution_count": null,
   "metadata": {},
   "outputs": [],
   "source": [
    "df_filter = (df['보링, 핀 이동구간-왼팔'] == 0) & (df['보링 가공 전,후 위치-왼팔'] == 90)\n",
    "filtered_df = df.loc[~df_filter]\n"
   ]
  },
  {
   "cell_type": "code",
   "execution_count": null,
   "metadata": {},
   "outputs": [],
   "source": [
    "target = [col for col in filtered_df.columns if \"부하율\" in col]\n",
    "for col in target:\n",
    "    filtered_df[f\"{col} RS\"] = filtered_df[col].rolling(window=300).sum()"
   ]
  },
  {
   "cell_type": "code",
   "execution_count": null,
   "metadata": {},
   "outputs": [],
   "source": [
    "fig = go.Figure()\n",
    "for col in filtered_df.columns:\n",
    "    fig.add_trace(go.Scatter(\n",
    "        x=filtered_df['등록일'], y=filtered_df[col], name=col\n",
    "    ))\n",
    "    \n",
    "for time in timelines:\n",
    "    fig.add_vrect(\n",
    "        x0=time[0],\n",
    "        x1=time[1],\n",
    "        annotation_text=\"drill tip changed\",\n",
    "        fillcolor=\"green\",\n",
    "        opacity=0.3\n",
    "    )\n",
    "    \n",
    "fig.show()"
   ]
  },
  {
   "cell_type": "markdown",
   "metadata": {},
   "source": [
    "### 지금까지 시도한 내용들\n",
    "\n",
    "1. drill wear rate equation을 활용한 Feature 생성\n",
    "    - 결손되는 값들도 많고, 특이점 포착 X\n",
    "2. 이동 평균, 합, 표준편차를 활용한 Feature 생성\n",
    "    - 마찬가지로 특이점 포착은 불가했음\n",
    "3. 부하량, RPM 위주의 변화율로 Feature로 생성\n",
    "    - 마찬가지로 특이점 포착은 불가했음\n",
    "4. BackGround Knowledge 활용, 해당 내용들에 초점을 맞춘 데이터분석\n",
    "\n",
    "### 앞으로 시도해 볼 것들\n",
    "1. 변화율의 이동합\n",
    "2. 드릴 파손 데이터가 들어오기 시작하면 그때도.."
   ]
  },
  {
   "cell_type": "code",
   "execution_count": null,
   "metadata": {},
   "outputs": [],
   "source": [
    "target_cols = [col for col in one_df.columns if \"부하율\" in col or \"RPM\" in col]\n",
    "target_cols"
   ]
  },
  {
   "cell_type": "code",
   "execution_count": null,
   "metadata": {},
   "outputs": [],
   "source": [
    "for diff_col in target_cols:\n",
    "    one_df[f'{diff_col}_diff'] = one_df[diff_col].diff()"
   ]
  },
  {
   "cell_type": "code",
   "execution_count": null,
   "metadata": {},
   "outputs": [],
   "source": [
    "target_cols2 = [col for col in one_df.columns if \"diff\" in col] + ['등록일']\n",
    "target_df2 = one_df[target_cols2]"
   ]
  },
  {
   "cell_type": "code",
   "execution_count": null,
   "metadata": {},
   "outputs": [],
   "source": [
    "for col in target_df2.select_dtypes(exclude=\"datetime64[ns]\").columns:\n",
    "    target_df2[f\"{col}_mavg\"] = target_df2[col].rolling(window=300).sum()"
   ]
  },
  {
   "cell_type": "code",
   "execution_count": null,
   "metadata": {},
   "outputs": [],
   "source": [
    "timelines"
   ]
  },
  {
   "cell_type": "code",
   "execution_count": null,
   "metadata": {},
   "outputs": [],
   "source": [
    "fig = go.Figure()\n",
    "for col in target_df2.columns:\n",
    "    fig.add_trace(go.Scatter(\n",
    "        x=target_df2['등록일'], y=target_df2[col], name=col\n",
    "    ))\n",
    "    \n",
    "for time in timelines:\n",
    "    fig.add_vrect(\n",
    "        x0=time[0],\n",
    "        x1=time[1],\n",
    "        fillcolor=\"green\",\n",
    "        opacity=0.3,\n",
    "        annotation_text=\"drill tip changed\"\n",
    "    )\n",
    "\n",
    "fig.show()"
   ]
  },
  {
   "cell_type": "code",
   "execution_count": null,
   "metadata": {},
   "outputs": [],
   "source": [
    "one_df.drop([col for col in one_df.columns if \"diff\" in col], axis=1, inplace=True)"
   ]
  },
  {
   "cell_type": "code",
   "execution_count": null,
   "metadata": {},
   "outputs": [],
   "source": [
    "one_df.info()"
   ]
  }
 ],
 "metadata": {
  "kernelspec": {
   "display_name": "bonglim2",
   "language": "python",
   "name": "python3"
  },
  "language_info": {
   "codemirror_mode": {
    "name": "ipython",
    "version": 3
   },
   "file_extension": ".py",
   "mimetype": "text/x-python",
   "name": "python",
   "nbconvert_exporter": "python",
   "pygments_lexer": "ipython3",
   "version": "3.9.19"
  }
 },
 "nbformat": 4,
 "nbformat_minor": 2
}
